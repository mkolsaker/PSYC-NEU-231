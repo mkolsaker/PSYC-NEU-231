{
 "cells": [
  {
   "cell_type": "markdown",
   "metadata": {},
   "source": [
    "## EXERCISES\n",
    "\n",
    "### Vector Multiplication\n",
    "1. Produce 2 vectors, one with integers in the range [5,10] and the other [15,20] using the np.arange function\n",
    "1. Without using any functions from the numpy module\n",
    "    1. Compute the outer product of those vectors \n",
    "    1. Compute the \"trace\" of the resulting matrix\n",
    "    \n",
    "    ![trace](https://wikimedia.org/api/rest_v1/media/math/render/svg/3e5b6e82272fc5eeca6d510388e0a2bd0a6c6463)\n",
    "    \n",
    "    \n",
    "Complete the same items using numpy operations"
   ]
  },
  {
   "cell_type": "code",
   "execution_count": 50,
   "metadata": {},
   "outputs": [
    {
     "name": "stdout",
     "output_type": "stream",
     "text": [
      "[ 5  6  7  8  9 10]\n",
      "[15 16 17 18 19 20] \n",
      "\n",
      "[[ 75.  80.  85.  90.  95. 100.]\n",
      " [ 90.  96. 102. 108. 114. 120.]\n",
      " [105. 112. 119. 126. 133. 140.]\n",
      " [120. 128. 136. 144. 152. 160.]\n",
      " [135. 144. 153. 162. 171. 180.]\n",
      " [150. 160. 170. 180. 190. 200.]]\n",
      "\n",
      " The \"trace\", tr(A) equals 805 \n",
      "\n",
      "[[ 75  80  85  90  95 100]\n",
      " [ 90  96 102 108 114 120]\n",
      " [105 112 119 126 133 140]\n",
      " [120 128 136 144 152 160]\n",
      " [135 144 153 162 171 180]\n",
      " [150 160 170 180 190 200]]\n",
      "The \"trace\", tr(A) equals 805\n"
     ]
    }
   ],
   "source": [
    "import numpy as np\n",
    "\n",
    "#1.)\n",
    "V1 = np.arange(5,11,1)\n",
    "V2 = np.arange(15,21,1)\n",
    "print (V1)\n",
    "print (V2, '\\n')\n",
    "#2.) A.\n",
    "\n",
    "M1 = np.zeros( (len(V1), len(V2)) ) #allocating array of zeros\n",
    "\n",
    "for i in range(len(V1)):\n",
    "  for j in range(len(V2)):\n",
    "    M1 [i,j] = V1[i] * V2[j]\n",
    "    \n",
    "print (M1)\n",
    "    \n",
    "#B)\n",
    "tr = 0\n",
    "\n",
    "for i in range(len(V1)):\n",
    "  for j in range(len(V2)):\n",
    "    if i == j:\n",
    "      tr = tr + M1[i,j]\n",
    "\n",
    "      \n",
    "print ('\\n The \"trace\", tr(A) equals %d \\n' %tr)\n",
    "\n",
    "\n",
    "\n",
    "#The same operations using numpy operations:\n",
    "#2A\n",
    "\n",
    "M2 = np.outer(V1, V2)\n",
    "print (M2)\n",
    "\n",
    "#2B)\n",
    "Trace = np.trace(M2)\n",
    "print ('The \"trace\", tr(A) equals', Trace)"
   ]
  },
  {
   "cell_type": "markdown",
   "metadata": {},
   "source": [
    "### Matrix Multiplication\n",
    "* Two matricies can be multiplied if their inner dimensions match (eg. 2x3 * 3x5 -> 2x5). The best rule for working with and mutliplying matricies is to remember (rows x columns). This applies to both the dimensions of a matrix (a 2x3 matrix has 2 rows and 3 columns) as well as multiplication (you multiply the rows of the first matrix by the columns of the second). \n",
    "\n",
    "* When multiplying two matricies of dimension (M x N)*(N x P) the resulting matrix is (M x P). The upper element of the reslting matrix is the inner (or dot) product of the first row of the first matrix and the first column of the second matrix\n",
    "\n",
    "![two matrices](https://wikimedia.org/api/rest_v1/media/math/render/svg/16b1644351bc2041175b19cbc65da03ef78130c7)\n",
    "\n",
    "![store product in matrix C](https://wikimedia.org/api/rest_v1/media/math/render/svg/00ac0c831c365b7424cc43239aae8cebea27c56c)\n",
    "\n",
    "![matrix multiply](https://wikimedia.org/api/rest_v1/media/math/render/svg/3cfeccef1c8c7e6da0ddf08daed8dbf3c6f50c5e)\n",
    "\n",
    "for i = 1, ..., n and j = 1, ..., p.\n",
    "\n",
    "1. Make two matrices of random numbers (A and B). A should be a 4x3 matrix and B should be a 3x4 matrix. Multiply A by B using (to a resulting matrix C) using:\n",
    "    1. a conventional for-loop\n",
    "    1. list comprehension\n",
    "    1. numpy operator\n",
    "    \n",
    "2. After you have C, pull out the upper quadrant using fancy indexing, and then replace the main diagonal (upper left to lower right) with 0s. "
   ]
  },
  {
   "cell_type": "code",
   "execution_count": 139,
   "metadata": {},
   "outputs": [
    {
     "name": "stdout",
     "output_type": "stream",
     "text": [
      "[[77 43 31]\n",
      " [36 21  0]\n",
      " [ 1 74 86]\n",
      " [ 2 98  1]] \n",
      "\n",
      "[[28 80 21 73]\n",
      " [87 42 65 97]\n",
      " [ 0  6 41 22]] \n",
      "\n",
      "\n",
      " Multiplication of the two matrices by conventional for-loops gives this matrix: [[ 5897  8152  5683 10474]\n",
      " [ 2835  3762  2121  4665]\n",
      " [ 6466  3704  8357  9143]\n",
      " [ 8582  4282  6453  9674]]\n"
     ]
    }
   ],
   "source": [
    "import random\n",
    "#1\n",
    "\n",
    "[m,n] = [4,3] \n",
    "mA = np.random.randint(0,101,(m,n)) #creates matrix with random numbers between 0 and 100\n",
    "mB = np.random.randint(0,101,(n,m))\n",
    "\n",
    "print (mA, '\\n')\n",
    "print (mB, '\\n')\n",
    "mC = np.zeros([m,m], dtype = 'int64') #Use [] or () in this case??\n",
    "\n",
    "\n",
    "#A\n",
    "for i in range (m):\n",
    "    for j in range (m):        \n",
    "        for k in range (n):\n",
    "            mC[i,j] += mA[i,k] * mB[k,j]\n",
    "print ('\\n Multiplication of the two matrices by conventional for-loops gives this matrix:',mC)\n",
    "\n",
    "\n",
    "\n",
    "#B\n",
    "\n",
    "mC = np.zeros([m,m], dtype = 'int32')\n",
    "\n",
    "\n",
    "for i in range(m)\n",
    "mC(i,j) = \n",
    "c(i,j) = [for i in range(m)  ]\n",
    "\n",
    "for i in list:\n",
    "    if conditional:\n",
    "        expression\n",
    "        \n",
    "[ expression for i in list if conditional ]\n",
    "\n",
    "\n"
   ]
  },
  {
   "cell_type": "code",
   "execution_count": 141,
   "metadata": {},
   "outputs": [
    {
     "name": "stdout",
     "output_type": "stream",
     "text": [
      "[[0 0 0 0]\n",
      " [0 0 0 0]\n",
      " [0 0 0 0]\n",
      " [0 0 0 0]]\n"
     ]
    }
   ],
   "source": []
  },
  {
   "cell_type": "code",
   "execution_count": null,
   "metadata": {},
   "outputs": [],
   "source": []
  },
  {
   "cell_type": "code",
   "execution_count": null,
   "metadata": {},
   "outputs": [],
   "source": []
  }
 ],
 "metadata": {
  "kernelspec": {
   "display_name": "Python 3",
   "language": "python",
   "name": "python3"
  },
  "language_info": {
   "codemirror_mode": {
    "name": "ipython",
    "version": 3
   },
   "file_extension": ".py",
   "mimetype": "text/x-python",
   "name": "python",
   "nbconvert_exporter": "python",
   "pygments_lexer": "ipython3",
   "version": "3.7.0"
  }
 },
 "nbformat": 4,
 "nbformat_minor": 2
}
