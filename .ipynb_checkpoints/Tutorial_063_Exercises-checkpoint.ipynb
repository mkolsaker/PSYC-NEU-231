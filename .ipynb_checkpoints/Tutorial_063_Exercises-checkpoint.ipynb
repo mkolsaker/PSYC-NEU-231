{
 "cells": [
  {
   "cell_type": "markdown",
   "metadata": {},
   "source": [
    "# In class exercises for 11.21.2018 (Filtering)"
   ]
  },
  {
   "cell_type": "markdown",
   "metadata": {},
   "source": [
    "## First import data from eeg_data00.npz"
   ]
  },
  {
   "cell_type": "code",
   "execution_count": 62,
   "metadata": {},
   "outputs": [],
   "source": [
    "# first import the modules that you'll need. \n",
    "import numpy as np\n",
    "import scipy.io as sio\n",
    "import matplotlib.pyplot as plt\n",
    "\n",
    "# import our sinc filter implementation function...\n",
    "import my_sinc_filt as msf\n",
    "\n",
    "# also define the default font we'll use for figures. \n",
    "fig_font = {'fontname':'Arial', 'size':'20'}"
   ]
  },
  {
   "cell_type": "markdown",
   "metadata": {},
   "source": [
    "## Just like in the first FFT tutorial load eeg_data00.npz so that we have an EEG data set to play with\n",
    "* you should find that it has three arrays: data, tx, and sr (with 'data' a #trials x # timepoints array containing the EEG data, the time of each data acquisition in tx, and the sample rate stored as sr).  "
   ]
  },
  {
   "cell_type": "code",
   "execution_count": 63,
   "metadata": {},
   "outputs": [
    {
     "name": "stdout",
     "output_type": "stream",
     "text": [
      "Shape of the big eeg data set:  (960, 876)\n",
      "Sample rate:  250\n"
     ]
    }
   ],
   "source": [
    "# load the data...\n",
    "eeg = np.load('eeg_data00.npz')\n",
    "\n",
    "# get the different arrays like this...kind of like a structure in matlab. \n",
    "eeg['data']\n",
    "eeg['sr']\n",
    "eeg['tx']\n",
    "\n",
    "# and can query the attributes of the data like this...which will tell us that there 960 trials and 876 timepoints per trial sampled\n",
    "# at 250Hz\n",
    "print('Shape of the big eeg data set: ', eeg['data'].shape)\n",
    "print('Sample rate: ', eeg['sr'])\n",
    "\n",
    "# and if you want to save some typing, especially because we only have a few variables, you reassign the different arrays like this\n",
    "data = eeg['data']\n",
    "sr = eeg['sr']\n",
    "tx = eeg['tx']\n",
    "# now you can just write data instead of eeg['data'] (and can for tx and sr as well...)"
   ]
  },
  {
   "cell_type": "markdown",
   "metadata": {},
   "source": [
    "## Extract the data from time 0 until time 2000\n",
    "* hint: you can use boolean indexing by selecting the columns from the 'data' matrix that meet: (tx>=0)  & (tx<2000)\n",
    "* while you're at it, go ahead and grab the timepoints corresponding to that interval as well"
   ]
  },
  {
   "cell_type": "code",
   "execution_count": 64,
   "metadata": {
    "scrolled": true
   },
   "outputs": [],
   "source": [
    "data_points = data[:, ((tx>=0)&(tx>2000))]\n",
    "time_points = tx[(tx>=0)&(tx>2000)]\n"
   ]
  },
  {
   "cell_type": "markdown",
   "metadata": {},
   "source": [
    "## Then FFT each trial and take a look at the average power across frequencies\n",
    "* FFT each trial \n",
    "* Then compute the amplitude on each trial\n",
    "* Then compute the average amplitude across all trials"
   ]
  },
  {
   "cell_type": "code",
   "execution_count": 65,
   "metadata": {},
   "outputs": [
    {
     "data": {
      "image/png": "[encoded data removed]",
      "text/plain": [
       "<Figure size 432x288 with 1 Axes>"
      ]
     },
     "metadata": {
      "needs_background": "light"
     },
     "output_type": "display_data"
    }
   ],
   "source": [
    "data_fft = np.fft.rfft(data_points, axis = 1)\n",
    "\n",
    "r,c = data_points.shape\n",
    "\n",
    "amp = ((np.abs(data_fft)) /c) *2 #the amplitude on each trial\n",
    "\n",
    "amp_mean = np.mean(amp,axis =0) #the average amplitude across all trials\n",
    "\n",
    "freq_axis = np.fft.rfftfreq(c,1/sr)\n",
    "\n",
    "plt.plot(freq_axis,amp_mean)\n",
    "plt.xlabel('FFT Frequency', **fig_font)\n",
    "plt.ylabel('FFT Amplitude', **fig_font)\n",
    "plt.show()\n"
   ]
  },
  {
   "cell_type": "markdown",
   "metadata": {},
   "source": [
    "## Notice that there are two prominent features in the freq domain representation. Make a lp filter that gets rid of power > 20Hz (you'll know if it worked if you get rid of the spike at 60Hz)\n",
    "* Because our apply_filter function isn't optimized to work on matrices (we could do that, but haven't) you will need to loop and apply filter to each trial"
   ]
  },
  {
   "cell_type": "code",
   "execution_count": 66,
   "metadata": {},
   "outputs": [
    {
     "ename": "ValueError",
     "evalue": "could not broadcast input array from shape (124) into shape (125)",
     "output_type": "error",
     "traceback": [
      "\u001b[1;31m---------------------------------------------------------------------------\u001b[0m",
      "\u001b[1;31mValueError\u001b[0m                                Traceback (most recent call last)",
      "\u001b[1;32m<ipython-input-66-cb37fdf8f49b>\u001b[0m in \u001b[0;36m<module>\u001b[1;34m()\u001b[0m\n\u001b[0;32m      6\u001b[0m \u001b[0msig_filt\u001b[0m \u001b[1;33m=\u001b[0m \u001b[0mnp\u001b[0m\u001b[1;33m.\u001b[0m\u001b[0mzeros\u001b[0m\u001b[1;33m(\u001b[0m\u001b[1;33m(\u001b[0m\u001b[0mr\u001b[0m\u001b[1;33m,\u001b[0m\u001b[0mc\u001b[0m\u001b[1;33m)\u001b[0m\u001b[1;33m)\u001b[0m\u001b[1;31m#Filtering the signal\u001b[0m\u001b[1;33m\u001b[0m\u001b[0m\n\u001b[0;32m      7\u001b[0m \u001b[1;32mfor\u001b[0m \u001b[0mi\u001b[0m \u001b[1;32min\u001b[0m \u001b[0mnp\u001b[0m\u001b[1;33m.\u001b[0m\u001b[0marange\u001b[0m\u001b[1;33m(\u001b[0m\u001b[0mr\u001b[0m\u001b[1;33m)\u001b[0m\u001b[1;33m:\u001b[0m\u001b[1;33m\u001b[0m\u001b[0m\n\u001b[1;32m----> 8\u001b[1;33m     \u001b[0msig_filt\u001b[0m\u001b[1;33m[\u001b[0m\u001b[0mi\u001b[0m\u001b[1;33m,\u001b[0m\u001b[1;33m:\u001b[0m\u001b[1;33m]\u001b[0m \u001b[1;33m=\u001b[0m \u001b[0mmsf\u001b[0m\u001b[1;33m.\u001b[0m\u001b[0mapply_filt\u001b[0m\u001b[1;33m(\u001b[0m\u001b[0mdata_points\u001b[0m\u001b[1;33m[\u001b[0m\u001b[0mi\u001b[0m\u001b[1;33m,\u001b[0m \u001b[1;33m:\u001b[0m\u001b[1;33m]\u001b[0m\u001b[1;33m,\u001b[0m \u001b[0msinc_func\u001b[0m\u001b[1;33m)\u001b[0m\u001b[1;33m\u001b[0m\u001b[0m\n\u001b[0m\u001b[0;32m      9\u001b[0m \u001b[1;33m\u001b[0m\u001b[0m\n\u001b[0;32m     10\u001b[0m \u001b[1;33m\u001b[0m\u001b[0m\n",
      "\u001b[1;31mValueError\u001b[0m: could not broadcast input array from shape (124) into shape (125)"
     ]
    }
   ],
   "source": [
    "lp_cutoff = 0.1\n",
    "transition_band = 0.1\n",
    "\n",
    "n,sinc_func = msf.define_filt (fc=lp_cutoff, b = transition_band, window = 'blackman', type_filt = 'lp')\n",
    "\n",
    "sig_filt = np.zeros((r,c))#Filtering the signal\n",
    "for i in np.arange(r):\n",
    "    sig_filt[i,:] = msf.apply_filt(data_points[i, :], sinc_func)\n",
    "\n",
    "    \n",
    "# fc=0.1\n",
    "# b=0.1\n",
    "# win = 'blackman'\n",
    "# type_filt = 'lp'\n",
    "\n",
    "# # make our function call to generate a lp filter\n",
    "# n, sinc_func = msf.define_filt(fc=fc, b=b, window=win, type_filt=type_filt)\n",
    "\n",
    "# # filter the signal\n",
    "# filt_sig = np.zeros((r,c))\n",
    "# for i in np.arange(r):\n",
    "#     filt_sig[i,:] = msf.appl\n",
    "# y_filt(input_sig=data_points[i,:], input_filter=sinc_func)"
   ]
  },
  {
   "cell_type": "markdown",
   "metadata": {},
   "source": [
    "## Then FFT it again to see if you got rid of the hf components of the signal"
   ]
  },
  {
   "cell_type": "code",
   "execution_count": 67,
   "metadata": {},
   "outputs": [
    {
     "data": {
      "image/png": "[encoded data removed]",
      "text/plain": [
       "<Figure size 432x288 with 1 Axes>"
      ]
     },
     "metadata": {
      "needs_background": "light"
     },
     "output_type": "display_data"
    }
   ],
   "source": [
    "filt_data_fft = np.fft.rfft(sig_filt, axis=1)\n",
    "\n",
    "r,c = sig_filt.shape\n",
    "\n",
    "amp = ((np.abs(filt_data_fft)) /c) *2 #the amplitude on each trial\n",
    "\n",
    "amp_mean = np.mean(amp,axis =0) #the average amplitude across all trials\n",
    "\n",
    "freq_axis = np.fft.rfftfreq(c,1/sr)\n",
    "\n",
    "plt.plot(freq_axis,amp_mean)\n",
    "plt.xlabel('FFT Frequency', **fig_font)\n",
    "plt.ylabel('FFT Amplitude', **fig_font)\n",
    "plt.show()\n",
    "\n",
    "\n",
    "\n",
    "# data_fft = np.fft.rfft(data_points, axis = 1)\n",
    "\n",
    "# r,c = data_points.shape\n",
    "\n",
    "# amp = ((np.abs(data_fft)) /c) *2 #the amplitude on each trial\n",
    "\n",
    "# amp_mean = np.mean(amp,axis =0) #the average amplitude across all trials\n",
    "\n",
    "# freq_axis = np.fft.rfftfreq(c,1/sr)\n",
    "\n",
    "# plt.plot(freq_axis,amp_mean)\n",
    "# plt.xlabel('FFT Frequency', **fig_font)\n",
    "# plt.ylabel('FFT Amplitude', **fig_font)\n",
    "# plt.show()\n"
   ]
  },
  {
   "cell_type": "markdown",
   "metadata": {},
   "source": [
    "## Now design a band pass filter that gets rid of everything outside of the 6-14Hz range (where that big bump is...)\n",
    "* To design a band pass filter, make a lp filter (with an appropriate fc), then make a hp filter (with an appropriate fc)\n",
    "* use np.convolve to combine the two filters \n",
    "* then call the apply_filt function\n",
    "* Then you should be left with only those frequencies that pass the lp and the hp filters (i.e. a band pass filter)!"
   ]
  },
  {
   "cell_type": "code",
   "execution_count": 68,
   "metadata": {},
   "outputs": [
    {
     "ename": "ValueError",
     "evalue": "could not broadcast input array from shape (124) into shape (125)",
     "output_type": "error",
     "traceback": [
      "\u001b[1;31m---------------------------------------------------------------------------\u001b[0m",
      "\u001b[1;31mValueError\u001b[0m                                Traceback (most recent call last)",
      "\u001b[1;32m<ipython-input-68-e7960f10ccf2>\u001b[0m in \u001b[0;36m<module>\u001b[1;34m()\u001b[0m\n\u001b[0;32m     16\u001b[0m \u001b[0msig_bp\u001b[0m \u001b[1;33m=\u001b[0m \u001b[0mnp\u001b[0m\u001b[1;33m.\u001b[0m\u001b[0mzeros\u001b[0m\u001b[1;33m(\u001b[0m\u001b[1;33m(\u001b[0m\u001b[0mr\u001b[0m\u001b[1;33m,\u001b[0m\u001b[0mc\u001b[0m\u001b[1;33m)\u001b[0m\u001b[1;33m)\u001b[0m\u001b[1;33m\u001b[0m\u001b[0m\n\u001b[0;32m     17\u001b[0m \u001b[1;32mfor\u001b[0m \u001b[0mi\u001b[0m \u001b[1;32min\u001b[0m \u001b[0mnp\u001b[0m\u001b[1;33m.\u001b[0m\u001b[0marange\u001b[0m\u001b[1;33m(\u001b[0m\u001b[0mr\u001b[0m\u001b[1;33m)\u001b[0m\u001b[1;33m:\u001b[0m\u001b[1;33m\u001b[0m\u001b[0m\n\u001b[1;32m---> 18\u001b[1;33m     \u001b[0msig_bp\u001b[0m\u001b[1;33m[\u001b[0m\u001b[0mi\u001b[0m\u001b[1;33m,\u001b[0m\u001b[1;33m:\u001b[0m\u001b[1;33m]\u001b[0m \u001b[1;33m=\u001b[0m \u001b[0mmsf\u001b[0m\u001b[1;33m.\u001b[0m\u001b[0mapply_filt\u001b[0m\u001b[1;33m(\u001b[0m\u001b[0mdata_points\u001b[0m\u001b[1;33m[\u001b[0m\u001b[0mi\u001b[0m\u001b[1;33m,\u001b[0m\u001b[1;33m:\u001b[0m\u001b[1;33m]\u001b[0m\u001b[1;33m,\u001b[0m \u001b[0mbp_filt\u001b[0m\u001b[1;33m)\u001b[0m\u001b[1;33m\u001b[0m\u001b[0m\n\u001b[0m\u001b[0;32m     19\u001b[0m \u001b[1;33m\u001b[0m\u001b[0m\n\u001b[0;32m     20\u001b[0m \u001b[1;33m\u001b[0m\u001b[0m\n",
      "\u001b[1;31mValueError\u001b[0m: could not broadcast input array from shape (124) into shape (125)"
     ]
    },
    {
     "data": {
      "image/png": "[encoded data removed]",
      "text/plain": [
       "<Figure size 432x288 with 1 Axes>"
      ]
     },
     "metadata": {
      "needs_background": "light"
     },
     "output_type": "display_data"
    }
   ],
   "source": [
    "#Band pass defined from 6 to 14 Hz\n",
    "\n",
    "bandpass = [6,14]\n",
    "\n",
    "bandpass_fc = bandpass/sr #Hz => fc\n",
    "\n",
    "#LPfilter\n",
    "n,sinc_LP = msf.define_filt(bandpass_fc[0], 0.1, 'blackman', 'lp')\n",
    "\n",
    "#HPfilter\n",
    "n,sinc_HP = msf.define_filt(bandpass_fc[1], 0.1, 'blackman', 'hp')\n",
    "\n",
    "bp_filt = np.convolve(sinc_LP, sinc_HP)\n",
    "plt.plot(bandpass)\n",
    "\n",
    "sig_bp = np.zeros((r,c))\n",
    "for i in np.arange(r):\n",
    "    sig_bp[i,:] = msf.apply_filt(data_points[i,:], bp_filt)\n",
    "\n",
    "\n",
    "#??"
   ]
  },
  {
   "cell_type": "markdown",
   "metadata": {},
   "source": [
    "## You can also make a band-stop filter using a similar logic\n",
    "* Instead of convolving the lp and the hp filters, you can add them together\n",
    "* Use this to selectively get rid of the 60Hz line noise in the data by generated a band-stop filter over 50-70Hz"
   ]
  },
  {
   "cell_type": "code",
   "execution_count": null,
   "metadata": {},
   "outputs": [],
   "source": []
  },
  {
   "cell_type": "markdown",
   "metadata": {},
   "source": [
    "## Then FFT and look at filtered signal in the frequency domain"
   ]
  }
 ],
 "metadata": {
  "kernelspec": {
   "display_name": "Python 3",
   "language": "python",
   "name": "python3"
  },
  "language_info": {
   "codemirror_mode": {
    "name": "ipython",
    "version": 3
   },
   "file_extension": ".py",
   "mimetype": "text/x-python",
   "name": "python",
   "nbconvert_exporter": "python",
   "pygments_lexer": "ipython3",
   "version": "3.7.0"
  }
 },
 "nbformat": 4,
 "nbformat_minor": 2
}
